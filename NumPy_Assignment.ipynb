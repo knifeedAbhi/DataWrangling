{
 "metadata": {
  "language_info": {
   "codemirror_mode": {
    "name": "ipython",
    "version": 3
   },
   "file_extension": ".py",
   "mimetype": "text/x-python",
   "name": "python",
   "nbconvert_exporter": "python",
   "pygments_lexer": "ipython3",
   "version": "3.9.5"
  },
  "orig_nbformat": 2,
  "kernelspec": {
   "name": "python395jvsc74a57bd0b3b832df0e9a4dd87b209a922b4d4b5d345ac5e80e717c3248f75c82f64cfdc8",
   "display_name": "Python 3.9.5 64-bit"
  },
  "metadata": {
   "interpreter": {
    "hash": "b3b832df0e9a4dd87b209a922b4d4b5d345ac5e80e717c3248f75c82f64cfdc8"
   }
  }
 },
 "nbformat": 4,
 "nbformat_minor": 2,
 "cells": [
  {
   "source": [
    "<h1>Vector of size 10 and Fifth value is 1</h1>"
   ],
   "cell_type": "markdown",
   "metadata": {}
  },
  {
   "cell_type": "code",
   "execution_count": 2,
   "metadata": {},
   "outputs": [
    {
     "output_type": "execute_result",
     "data": {
      "text/plain": [
       "array([[0., 0., 0., 0., 1., 0., 0., 0., 0., 0.]])"
      ]
     },
     "metadata": {},
     "execution_count": 2
    }
   ],
   "source": [
    "import numpy as np\n",
    "\n",
    "arr1 = np.zeros(shape=(1,10))\n",
    "arr1[0,4] = 1\n",
    "arr1"
   ]
  },
  {
   "source": [
    "<h1>Vector with values ranging from 10 to 49</h1>"
   ],
   "cell_type": "markdown",
   "metadata": {}
  },
  {
   "cell_type": "code",
   "execution_count": 9,
   "metadata": {},
   "outputs": [
    {
     "output_type": "execute_result",
     "data": {
      "text/plain": [
       "array([[47, 36, 40, 46, 21, 39, 49, 10, 31, 43]])"
      ]
     },
     "metadata": {},
     "execution_count": 9
    }
   ],
   "source": [
    "arr2 = np.random.randint(low = 10,high = 50,size = (1,10))\n",
    "arr2"
   ]
  },
  {
   "source": [
    "<h1>3x3 Matrix with values ranging from 0 to 8</h1>"
   ],
   "cell_type": "markdown",
   "metadata": {}
  },
  {
   "cell_type": "code",
   "execution_count": 10,
   "metadata": {},
   "outputs": [
    {
     "output_type": "execute_result",
     "data": {
      "text/plain": [
       "array([[1, 8, 6],\n",
       "       [2, 1, 8],\n",
       "       [1, 4, 7]])"
      ]
     },
     "metadata": {},
     "execution_count": 10
    }
   ],
   "source": [
    "arr3 = np.random.randint(low = 0,high = 9,size = (3,3))\n",
    "arr3"
   ]
  },
  {
   "source": [
    "<h1>Indices of Non Zero Elements</h1>"
   ],
   "cell_type": "markdown",
   "metadata": {}
  },
  {
   "cell_type": "code",
   "execution_count": 13,
   "metadata": {},
   "outputs": [
    {
     "output_type": "execute_result",
     "data": {
      "text/plain": [
       "array([0, 1, 4], dtype=int64)"
      ]
     },
     "metadata": {},
     "execution_count": 13
    }
   ],
   "source": [
    "arr4 = np.array([1,2,0,0,4,0])\n",
    "np.where(arr4 != 0)[0]"
   ]
  },
  {
   "source": [
    "<h1>Min and Max of a 10x10 Array</h1>"
   ],
   "cell_type": "markdown",
   "metadata": {}
  },
  {
   "cell_type": "code",
   "execution_count": 18,
   "metadata": {},
   "outputs": [
    {
     "output_type": "stream",
     "name": "stdout",
     "text": [
      "Numpy array is:\n [[20 99 84 76 57 10 67 98 26 76]\n [89 84 32 79 14 43 33 84 18 13]\n [87 41 25 28 87 46 43 62  1 38]\n [ 7 68 36 48 37 86 39 48 47 86]\n [31 47 13 26 96 69 85 26  8 18]\n [73 44 64 29 41 10 27 48 84 80]\n [88 70  2 17 13 36 17 57 64 32]\n [59 25 14  8 40 99 44 39 96 64]\n [52  4 34 22 68 31  6 30 37 82]\n [77 49 16 50 35 70 39 59 61 62]]\n\nMaximum value in numpy array is:\n 99\n\nMinimum value in numpy array is:\n 1\n"
     ]
    }
   ],
   "source": [
    "arr5 = np.random.randint(low = 1,high = 100,size = (10,10))\n",
    "print(\"Numpy array is:\\n\",arr5)\n",
    "print()\n",
    "print('Maximum value in numpy array is:\\n',np.max(arr5))\n",
    "print()\n",
    "print('Minimum value in numpy array is:\\n',np.min(arr5))"
   ]
  },
  {
   "source": [
    "<h1>Mean of an array</h1>"
   ],
   "cell_type": "markdown",
   "metadata": {}
  },
  {
   "cell_type": "code",
   "execution_count": 4,
   "metadata": {},
   "outputs": [
    {
     "output_type": "stream",
     "name": "stdout",
     "text": [
      "Numpy array is:\n [[29 48 49 12 32 45 41 21 39 18 27 18 28 16 37 34 12 10 14 29 45 47 33 38\n  22 26 45 47 50 41]]\n\nMean of numpy array is: 31.766666666666666\n"
     ]
    }
   ],
   "source": [
    "arr6 = np.random.randint(low = 10,high = 51,size = (1,30))\n",
    "print('Numpy array is:\\n',arr6)\n",
    "print()\n",
    "print('Mean of numpy array is:',np.mean(arr6))"
   ]
  },
  {
   "cell_type": "code",
   "execution_count": null,
   "metadata": {},
   "outputs": [],
   "source": []
  }
 ]
}